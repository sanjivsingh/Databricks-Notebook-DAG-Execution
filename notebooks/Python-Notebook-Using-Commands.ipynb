{
 "cells": [
  {
   "cell_type": "markdown",
   "metadata": {
    "application/vnd.databricks.v1+cell": {
     "cellMetadata": {
      "byteLimit": 2048000,
      "rowLimit": 10000
     },
     "inputWidgets": {},
     "nuid": "40c30bc4-3265-495b-8001-e30f4f60a5ce",
     "showTitle": false,
     "title": ""
    }
   },
   "source": [
    "![Task's flow in job](files/sanjivsingh/job_flows.png)"
   ]
  },
  {
   "cell_type": "code",
   "execution_count": 0,
   "metadata": {
    "application/vnd.databricks.v1+cell": {
     "cellMetadata": {
      "byteLimit": 2048000,
      "rowLimit": 10000
     },
     "inputWidgets": {},
     "nuid": "2851dcff-fc2d-4c19-ac40-dd9ea82c0861",
     "showTitle": false,
     "title": ""
    }
   },
   "outputs": [],
   "source": [
    "import logging\n",
    "import os\n",
    "import inspect\n",
    "import time\n",
    "import random"
   ]
  },
  {
   "cell_type": "code",
   "execution_count": 0,
   "metadata": {
    "application/vnd.databricks.v1+cell": {
     "cellMetadata": {
      "byteLimit": 2048000,
      "rowLimit": 10000
     },
     "inputWidgets": {},
     "nuid": "a25793a4-c4a1-4932-b53b-0ce71cd6e4bf",
     "showTitle": false,
     "title": ""
    }
   },
   "outputs": [],
   "source": [
    "task_status_map = {}\n",
    "task_error_map = {}\n",
    "TRIGGERED = \"TRIGGERED\"\n",
    "SKIPPED = \"SKIPPED\"\n",
    "COMPLETED = \"COMPLETED\"\n",
    "ERRORED = \"ERRORED\"\n",
    "BLOCKED = \"BLOCKED\""
   ]
  },
  {
   "cell_type": "code",
   "execution_count": 0,
   "metadata": {
    "application/vnd.databricks.v1+cell": {
     "cellMetadata": {
      "byteLimit": 2048000,
      "rowLimit": 10000
     },
     "inputWidgets": {},
     "nuid": "70918d46-bcd2-4a95-89bf-fa03c688416d",
     "showTitle": false,
     "title": ""
    }
   },
   "outputs": [],
   "source": [
    "def __update_task_end_status(task_name, task_status=COMPLETED):\n",
    "    task_status_map[task_name] = task_status\n",
    "\n",
    "\n",
    "def __update_task_start_status(task_name, task_status=TRIGGERED):\n",
    "    task_status_map[task_name] = task_status\n",
    "\n",
    "\n",
    "def __handleException(task_name, ex):\n",
    "    print(f\"..........Exception in {task_name} :  {ex=}, {type(ex)=}\")\n",
    "    task_error_map[task_name] = f\"{ex=}\"\n",
    "\n",
    "\n",
    "def __is_runnable(previous_tasks):\n",
    "    if previous_tasks != None:\n",
    "        for previous_task in previous_tasks:\n",
    "            # if one of parent is not completed.\n",
    "            if previous_task not in task_status_map:\n",
    "                return False\n",
    "            # if one of parrent BLOCKED or ERRORED\n",
    "            if (\n",
    "                task_status_map[previous_task] == ERRORED\n",
    "                or task_status_map[previous_task] == BLOCKED\n",
    "            ):\n",
    "                return False\n",
    "    return True\n",
    "\n",
    "\n",
    "def __execute_task(\n",
    "    task_name, task_args, previous_tasks=None, next_tasks=[], trigger_type=TRIGGERED\n",
    "):\n",
    "    if not __is_runnable(previous_tasks):\n",
    "        return\n",
    "\n",
    "    __update_task_start_status(task_name, trigger_type)\n",
    "    print(f\"{trigger_type} {task_name}\")\n",
    "    if trigger_type == TRIGGERED:\n",
    "        # exeucte step\n",
    "        task_func = globals()[task_name]\n",
    "        task_func(task_args)\n",
    "    else:\n",
    "        if trigger_type == ERRORED:\n",
    "            trigger_type = BLOCKED\n",
    "        for next_task in next_tasks:\n",
    "            next_task_func = globals()[next_task]\n",
    "            next_task_func(task_args, wrapper=True, trigger_type=trigger_type)"
   ]
  },
  {
   "cell_type": "code",
   "execution_count": 0,
   "metadata": {
    "application/vnd.databricks.v1+cell": {
     "cellMetadata": {
      "byteLimit": 2048000,
      "rowLimit": 10000
     },
     "inputWidgets": {},
     "nuid": "920cfa55-1930-4239-9c35-5b1b52a6c38f",
     "showTitle": false,
     "title": ""
    }
   },
   "outputs": [],
   "source": [
    "def step1(task_args, wrapper=False, trigger_type=TRIGGERED):\n",
    "    task_name = inspect.currentframe().f_code.co_name\n",
    "    if wrapper:\n",
    "        __execute_task(\n",
    "            task_name, task_args, next_tasks=[\"step2\"], trigger_type=trigger_type\n",
    "        )\n",
    "    else:\n",
    "        try:\n",
    "            #------LOGIC---------------\n",
    "            print(f\"..... executing {task_name} logic\")\n",
    "            time.sleep(random.randint(0, 2))\n",
    "            print(f\"..... completed {task_name} logic\")\n",
    "            # --------------------------\n",
    "            __update_task_end_status(task_name)\n",
    "            # trigger next\n",
    "            step2(task_args, wrapper=True, trigger_type=trigger_type)\n",
    "        except Exception as ex:\n",
    "            __handleException(task_name, ex)\n",
    "            step1(task_args, wrapper=True, trigger_type=ERRORED)"
   ]
  },
  {
   "cell_type": "code",
   "execution_count": 0,
   "metadata": {
    "application/vnd.databricks.v1+cell": {
     "cellMetadata": {
      "byteLimit": 2048000,
      "rowLimit": 10000
     },
     "inputWidgets": {},
     "nuid": "3b57f0a4-001a-463a-ade1-d3c8f56045a5",
     "showTitle": false,
     "title": ""
    }
   },
   "outputs": [],
   "source": [
    "def step2(task_args, wrapper=False, trigger_type=TRIGGERED):\n",
    "    task_name = inspect.currentframe().f_code.co_name\n",
    "    if wrapper:\n",
    "        __execute_task(\n",
    "            task_name,\n",
    "            task_args,\n",
    "            next_tasks=[\"step3\", \"step4\"],\n",
    "            trigger_type=trigger_type,\n",
    "        )\n",
    "    else:\n",
    "        try:\n",
    "            #------LOGIC---------------\n",
    "            print(f\"..... executing {task_name} logic\")\n",
    "            time.sleep(random.randint(0, 2))\n",
    "            print(f\"..... completed {task_name} logic\")\n",
    "            # --------------------------\n",
    "            __update_task_end_status(task_name)\n",
    "            # trigger next\n",
    "            step3(task_args, wrapper=True, trigger_type=trigger_type)\n",
    "            step4(task_args, wrapper=True, trigger_type=trigger_type)\n",
    "        except Exception as ex:\n",
    "            __handleException(task_name, ex)\n",
    "            step2(task_args, wrapper=True, trigger_type=ERRORED)"
   ]
  },
  {
   "cell_type": "code",
   "execution_count": 0,
   "metadata": {
    "application/vnd.databricks.v1+cell": {
     "cellMetadata": {
      "byteLimit": 2048000,
      "rowLimit": 10000
     },
     "inputWidgets": {},
     "nuid": "cf261fac-b617-40c9-83fc-ba9e8ca4dc9b",
     "showTitle": false,
     "title": ""
    }
   },
   "outputs": [],
   "source": [
    "def step3(task_args, wrapper=False, trigger_type=TRIGGERED):\n",
    "    task_name = inspect.currentframe().f_code.co_name\n",
    "    if wrapper:\n",
    "        __execute_task(\n",
    "            task_name,\n",
    "            task_args,\n",
    "            next_tasks=[\"step5\", \"step7\"],\n",
    "            trigger_type=trigger_type,\n",
    "        )\n",
    "    else:\n",
    "        try:\n",
    "            #------LOGIC---------------\n",
    "            print(f\"..... executing {task_name} logic\")\n",
    "            time.sleep(random.randint(0, 2))\n",
    "            status = random.randint(10, 20) % 2\n",
    "            #raise Exception(\"spam\", \"eggs\")\n",
    "            print(f\"..... completed {task_name} logic\")\n",
    "            # --------------------------\n",
    "            __update_task_end_status(task_name)\n",
    "            # trigger next\n",
    "            if status == 0:\n",
    "                step5(task_args, wrapper=True, trigger_type=trigger_type)\n",
    "                step7(task_args, wrapper=True, trigger_type=SKIPPED)\n",
    "            else:\n",
    "                step7(task_args, wrapper=True, trigger_type=trigger_type)\n",
    "                step5(task_args, wrapper=True, trigger_type=SKIPPED)\n",
    "        except Exception as ex:\n",
    "            __handleException(task_name, ex)\n",
    "            step3(task_args, wrapper=True, trigger_type=ERRORED)"
   ]
  },
  {
   "cell_type": "code",
   "execution_count": 0,
   "metadata": {
    "application/vnd.databricks.v1+cell": {
     "cellMetadata": {
      "byteLimit": 2048000,
      "rowLimit": 10000
     },
     "inputWidgets": {},
     "nuid": "d06c4c48-d26e-4281-8336-c2bdcb4ea132",
     "showTitle": false,
     "title": ""
    }
   },
   "outputs": [],
   "source": [
    "def step4(task_args, wrapper=False, trigger_type=TRIGGERED):\n",
    "    task_name = inspect.currentframe().f_code.co_name\n",
    "    if wrapper:\n",
    "        __execute_task(\n",
    "            task_name, task_args, next_tasks=[\"step9\"], trigger_type=trigger_type\n",
    "        )\n",
    "    else:\n",
    "        try:\n",
    "            #------LOGIC---------------\n",
    "            print(f\"..... executing {task_name} logic\")\n",
    "            time.sleep(random.randint(0, 2))\n",
    "            print(f\"..... completed {task_name} logic\")\n",
    "            # --------------------------\n",
    "            __update_task_end_status(task_name)\n",
    "            # trigger next\n",
    "            step9(task_args, wrapper=True, trigger_type=trigger_type)\n",
    "        except Exception as ex:\n",
    "            __handleException(task_name, ex)\n",
    "            step4(task_args, wrapper=True, trigger_type=ERRORED)"
   ]
  },
  {
   "cell_type": "code",
   "execution_count": 0,
   "metadata": {
    "application/vnd.databricks.v1+cell": {
     "cellMetadata": {
      "byteLimit": 2048000,
      "rowLimit": 10000
     },
     "inputWidgets": {},
     "nuid": "bfdf6ba6-41ba-4b1a-baa2-9c907b5176fb",
     "showTitle": false,
     "title": ""
    }
   },
   "outputs": [],
   "source": [
    "def step5(task_args, wrapper=False, trigger_type=TRIGGERED):\n",
    "    task_name = inspect.currentframe().f_code.co_name\n",
    "    if wrapper:\n",
    "        __execute_task(\n",
    "            task_name, task_args, next_tasks=[\"step6\"], trigger_type=trigger_type\n",
    "        )\n",
    "    else:\n",
    "        try:\n",
    "            #------LOGIC---------------\n",
    "            print(f\"..... executing {task_name} logic\")\n",
    "            time.sleep(random.randint(0, 2))\n",
    "            print(f\"..... completed {task_name} logic\")\n",
    "            # --------------------------\n",
    "            __update_task_end_status(task_name)\n",
    "            # trigger next\n",
    "            step6(task_args, wrapper=True, trigger_type=trigger_type)\n",
    "        except Exception as ex:\n",
    "            __handleException(task_name, ex)\n",
    "            step5(task_args, wrapper=True, trigger_type=ERRORED)"
   ]
  },
  {
   "cell_type": "code",
   "execution_count": 0,
   "metadata": {
    "application/vnd.databricks.v1+cell": {
     "cellMetadata": {
      "byteLimit": 2048000,
      "rowLimit": 10000
     },
     "inputWidgets": {},
     "nuid": "d875c6a4-8b55-4218-9777-11be784b1351",
     "showTitle": false,
     "title": ""
    }
   },
   "outputs": [],
   "source": [
    "def step6(task_args, wrapper=False, trigger_type=TRIGGERED):\n",
    "    task_name = inspect.currentframe().f_code.co_name\n",
    "    if wrapper:\n",
    "        __execute_task(\n",
    "            task_name, task_args, next_tasks=[\"step10\"], trigger_type=trigger_type\n",
    "        )\n",
    "    else:\n",
    "        try:\n",
    "            #------LOGIC---------------\n",
    "            print(f\"..... executing {task_name} logic\")\n",
    "            time.sleep(random.randint(0, 2))\n",
    "            print(f\"..... completed {task_name} logic\")\n",
    "            # --------------------------\n",
    "            __update_task_end_status(task_name)\n",
    "            # trigger next\n",
    "            step10(task_args, wrapper=True, trigger_type=trigger_type)\n",
    "        except Exception as ex:\n",
    "            __handleException(task_name, ex)\n",
    "            step6(task_args, wrapper=True, trigger_type=ERRORED)"
   ]
  },
  {
   "cell_type": "code",
   "execution_count": 0,
   "metadata": {
    "application/vnd.databricks.v1+cell": {
     "cellMetadata": {
      "byteLimit": 2048000,
      "rowLimit": 10000
     },
     "inputWidgets": {},
     "nuid": "9fdb829a-5ee7-4997-a48e-43942a48fe39",
     "showTitle": false,
     "title": ""
    }
   },
   "outputs": [],
   "source": [
    "def step7(task_args, wrapper=False, trigger_type=TRIGGERED):\n",
    "    task_name = inspect.currentframe().f_code.co_name\n",
    "    if wrapper:\n",
    "        __execute_task(\n",
    "            task_name, task_args, next_tasks=[\"step8\"], trigger_type=trigger_type\n",
    "        )\n",
    "    else:\n",
    "        try:\n",
    "            #------LOGIC---------------\n",
    "            print(f\"..... executing {task_name} logic\")\n",
    "            time.sleep(random.randint(0, 2))\n",
    "            print(f\"..... completed {task_name} logic\")\n",
    "            # --------------------------\n",
    "            __update_task_end_status(task_name)\n",
    "            # trigger next\n",
    "            step8(task_args, wrapper=True, trigger_type=trigger_type)\n",
    "        except Exception as ex:\n",
    "            __handleException(task_name, ex)\n",
    "            step7(task_args, wrapper=True, trigger_type=ERRORED)"
   ]
  },
  {
   "cell_type": "code",
   "execution_count": 0,
   "metadata": {
    "application/vnd.databricks.v1+cell": {
     "cellMetadata": {
      "byteLimit": 2048000,
      "rowLimit": 10000
     },
     "inputWidgets": {},
     "nuid": "3d85323c-f570-47ae-b064-d71f99c21227",
     "showTitle": false,
     "title": ""
    }
   },
   "outputs": [],
   "source": [
    "def step8(task_args, wrapper=False, trigger_type=TRIGGERED):\n",
    "    task_name = inspect.currentframe().f_code.co_name\n",
    "    if wrapper:\n",
    "        __execute_task(\n",
    "            task_name, task_args, next_tasks=[\"step10\"], trigger_type=trigger_type\n",
    "        )\n",
    "    else:\n",
    "        try:\n",
    "            #------LOGIC---------------\n",
    "            print(f\"..... executing {task_name} logic\")\n",
    "            time.sleep(random.randint(0, 2))\n",
    "            print(f\"..... completed {task_name} logic\")\n",
    "            # --------------------------\n",
    "            __update_task_end_status(task_name)\n",
    "            # trigger next\n",
    "            step10(task_args, wrapper=True, trigger_type=trigger_type)\n",
    "        except Exception as ex:\n",
    "            __handleException(task_name, ex)\n",
    "            step8(task_args, wrapper=True, trigger_type=ERRORED)"
   ]
  },
  {
   "cell_type": "code",
   "execution_count": 0,
   "metadata": {
    "application/vnd.databricks.v1+cell": {
     "cellMetadata": {
      "byteLimit": 2048000,
      "rowLimit": 10000
     },
     "inputWidgets": {},
     "nuid": "19355530-b086-4450-8122-475d0ca3791e",
     "showTitle": false,
     "title": ""
    }
   },
   "outputs": [],
   "source": [
    "def step9(task_args, wrapper=False, trigger_type=TRIGGERED):\n",
    "    task_name = inspect.currentframe().f_code.co_name\n",
    "    if wrapper:\n",
    "        __execute_task(\n",
    "            task_name, task_args, next_tasks=[\"step10\"], trigger_type=trigger_type\n",
    "        )\n",
    "    else:\n",
    "        try:\n",
    "            #------LOGIC---------------\n",
    "            print(f\"..... executing {task_name} logic\")\n",
    "            time.sleep(random.randint(0, 2))\n",
    "            print(f\"..... completed {task_name} logic\")\n",
    "            # --------------------------\n",
    "            __update_task_end_status(task_name)\n",
    "            # trigger next\n",
    "            step10(task_args, wrapper=True, trigger_type=trigger_type)\n",
    "        except Exception as ex:\n",
    "            __handleException(task_name, ex)\n",
    "            step9(task_args, wrapper=True, trigger_type=ERRORED)"
   ]
  },
  {
   "cell_type": "code",
   "execution_count": 0,
   "metadata": {
    "application/vnd.databricks.v1+cell": {
     "cellMetadata": {
      "byteLimit": 2048000,
      "rowLimit": 10000
     },
     "inputWidgets": {},
     "nuid": "2419ba3a-764d-4693-b8e2-3d4003907cf5",
     "showTitle": false,
     "title": ""
    }
   },
   "outputs": [],
   "source": [
    "def step10(task_args, wrapper=False, trigger_type=TRIGGERED):\n",
    "    task_name = inspect.currentframe().f_code.co_name\n",
    "    if wrapper:\n",
    "        __execute_task(\n",
    "            task_name,\n",
    "            task_args,\n",
    "            previous_tasks=[\"step6\", \"step8\", \"step9\"],\n",
    "            next_tasks=[\"step11\"],\n",
    "            trigger_type=trigger_type,\n",
    "        )\n",
    "    else:\n",
    "        try:\n",
    "            #------LOGIC---------------\n",
    "            print(f\"..... executing {task_name} logic\")\n",
    "            time.sleep(random.randint(0, 2))\n",
    "            print(f\"..... completed {task_name} logic\")\n",
    "            # --------------------------\n",
    "            __update_task_end_status(task_name)\n",
    "            # trigger next\n",
    "            step11(task_args, wrapper=True, trigger_type=trigger_type)\n",
    "        except Exception as ex:\n",
    "            __handleException(task_name, ex)\n",
    "            step10(task_args, wrapper=True, trigger_type=ERRORED)"
   ]
  },
  {
   "cell_type": "code",
   "execution_count": 0,
   "metadata": {
    "application/vnd.databricks.v1+cell": {
     "cellMetadata": {
      "byteLimit": 2048000,
      "rowLimit": 10000
     },
     "inputWidgets": {},
     "nuid": "a2b6c7d5-fd58-4167-a79c-b2f49ea64223",
     "showTitle": false,
     "title": ""
    }
   },
   "outputs": [],
   "source": [
    "def step11(task_args, wrapper=False, trigger_type=TRIGGERED):\n",
    "    task_name = inspect.currentframe().f_code.co_name\n",
    "    if wrapper:\n",
    "        __execute_task(task_name, task_args, trigger_type=trigger_type)\n",
    "    else:\n",
    "        try:\n",
    "            #------LOGIC---------------\n",
    "            print(f\"..... executing {task_name} logic\")\n",
    "            time.sleep(random.randint(0, 2))\n",
    "            print(f\"..... completed {task_name} logic\")\n",
    "            # --------------------------\n",
    "            __update_task_end_status(task_name)\n",
    "        except Exception as ex:\n",
    "            __handleException(task_name, ex)\n",
    "            step11(task_args, wrapper=True, trigger_type=ERRORED)"
   ]
  },
  {
   "cell_type": "code",
   "execution_count": 0,
   "metadata": {
    "application/vnd.databricks.v1+cell": {
     "cellMetadata": {
      "byteLimit": 2048000,
      "rowLimit": 10000
     },
     "inputWidgets": {},
     "nuid": "63eb63a2-77fb-4646-9771-c30905ec26de",
     "showTitle": false,
     "title": ""
    }
   },
   "outputs": [
    {
     "output_type": "stream",
     "name": "stdout",
     "output_type": "stream",
     "text": [
      "TRIGGERED step1\n..... executing step1 logic\n..... completed step1 logic\nTRIGGERED step2\n..... executing step2 logic\n..... completed step2 logic\nTRIGGERED step3\n..... executing step3 logic\n..... completed step3 logic\nTRIGGERED step7\n..... executing step7 logic\n..... completed step7 logic\nTRIGGERED step8\n..... executing step8 logic\n..... completed step8 logic\nSKIPPED step5\nSKIPPED step6\nTRIGGERED step4\n..... executing step4 logic\n..... completed step4 logic\nTRIGGERED step9\n..... executing step9 logic\n..... completed step9 logic\nTRIGGERED step10\n..... executing step10 logic\n..... completed step10 logic\nTRIGGERED step11\n..... executing step11 logic\n..... completed step11 logic\n{'step1': 'COMPLETED', 'step2': 'COMPLETED', 'step3': 'COMPLETED', 'step7': 'COMPLETED', 'step8': 'COMPLETED', 'step5': 'SKIPPED', 'step6': 'SKIPPED', 'step4': 'COMPLETED', 'step9': 'COMPLETED', 'step10': 'COMPLETED', 'step11': 'COMPLETED'}\n{}\n"
     ]
    }
   ],
   "source": [
    "task_args = {}\n",
    "step1(task_args, wrapper=True)\n",
    "print(task_status_map)\n",
    "print(task_error_map)"
   ]
  }
 ],
 "metadata": {
  "application/vnd.databricks.v1+notebook": {
   "dashboards": [],
   "language": "python",
   "notebookMetadata": {
    "pythonIndentUnit": 4
   },
   "notebookName": "Python-Notebook-Using-Commands",
   "widgets": {}
  }
 },
 "nbformat": 4,
 "nbformat_minor": 0
}
